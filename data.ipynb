{
 "cells": [
  {
   "cell_type": "code",
   "execution_count": 1,
   "metadata": {},
   "outputs": [],
   "source": [
    "import numpy as np\n"
   ]
  },
  {
   "cell_type": "code",
   "execution_count": 27,
   "metadata": {},
   "outputs": [
    {
     "data": {
      "text/plain": [
       "((21052, 3), (21446, 3), (21052, 3))"
      ]
     },
     "execution_count": 27,
     "metadata": {},
     "output_type": "execute_result"
    }
   ],
   "source": [
    "data = np.load(\"data/flownet3d/kitti_rm_ground/000074.npz\")\n",
    "data[\"pos1\"].shape, data[\"pos2\"].shape, data[\"gt\"].shape"
   ]
  },
  {
   "cell_type": "code",
   "execution_count": 36,
   "metadata": {},
   "outputs": [
    {
     "data": {
      "text/plain": [
       "3.8747717328236244"
      ]
     },
     "execution_count": 36,
     "metadata": {},
     "output_type": "execute_result"
    }
   ],
   "source": [
    "data[\"pos1\"][1].max()"
   ]
  },
  {
   "cell_type": "code",
   "execution_count": 30,
   "metadata": {},
   "outputs": [
    {
     "data": {
      "text/plain": [
       "(torch.Size([1, 2048, 3]),\n",
       " torch.Size([1, 2048, 3]),\n",
       " torch.Size([1, 2048, 1]),\n",
       " torch.Size([1, 2048, 3]))"
      ]
     },
     "execution_count": 30,
     "metadata": {},
     "output_type": "execute_result"
    }
   ],
   "source": [
    "from flot.datasets.kitti_flownet3d import Kitti\n",
    "path2data = \"data/flownet3d/kitti_rm_ground/\"\n",
    "\n",
    "dataset = Kitti(root_dir=path2data, nb_points=2048)\n",
    "\n",
    "seq0, gt0 = dataset.to_torch(*dataset.subsample_points(*dataset.load_sequence(110)))\n",
    "seq0[0].shape, seq0[1].shape, gt0[0].shape, gt0[1].shape\n"
   ]
  },
  {
   "cell_type": "code",
   "execution_count": 31,
   "metadata": {},
   "outputs": [
    {
     "data": {
      "text/plain": [
       "array([[0, 1],\n",
       "       [2, 3]])"
      ]
     },
     "execution_count": 31,
     "metadata": {},
     "output_type": "execute_result"
    }
   ],
   "source": [
    "a = np.asarray((0,1,2,3))\n",
    "a.reshape(2, -1)"
   ]
  }
 ],
 "metadata": {
  "kernelspec": {
   "display_name": "FLOT",
   "language": "python",
   "name": "python3"
  },
  "language_info": {
   "codemirror_mode": {
    "name": "ipython",
    "version": 3
   },
   "file_extension": ".py",
   "mimetype": "text/x-python",
   "name": "python",
   "nbconvert_exporter": "python",
   "pygments_lexer": "ipython3",
   "version": "3.10.8"
  },
  "orig_nbformat": 4,
  "vscode": {
   "interpreter": {
    "hash": "98c7ecb06c56f0c6f87723db7d4629cc864b0c5a56a2566c3ac9d0b9fd67e80c"
   }
  }
 },
 "nbformat": 4,
 "nbformat_minor": 2
}
