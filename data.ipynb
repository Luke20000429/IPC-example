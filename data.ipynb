{
 "cells": [
  {
   "cell_type": "code",
   "execution_count": 4,
   "metadata": {},
   "outputs": [],
   "source": [
    "import numpy as np\n"
   ]
  },
  {
   "cell_type": "code",
   "execution_count": 9,
   "metadata": {},
   "outputs": [
    {
     "data": {
      "text/plain": [
       "((42104, 3), dtype('float32'))"
      ]
     },
     "execution_count": 9,
     "metadata": {},
     "output_type": "execute_result"
    }
   ],
   "source": [
    "file_id = \"000074\"\n",
    "data = np.load(\"data/flownet3d/kitti_rm_ground/{}.npz\".format(file_id))\n",
    "# data[\"pos1\"].shape, data[\"pos2\"].shape, data[\"gt\"].shape\n",
    "length = min(data[\"pos1\"].shape[0], data[\"pos2\"].shape[0])\n",
    "frame = np.vstack([data[\"pos1\"][:length], data[\"pos2\"][:length]]).astype(np.float32)\n",
    "frame.shape, frame.dtype    "
   ]
  },
  {
   "cell_type": "code",
   "execution_count": 12,
   "metadata": {},
   "outputs": [
    {
     "name": "stdout",
     "output_type": "stream",
     "text": [
      "[-1.26226522 -0.00867741 -0.01515415]\n"
     ]
    }
   ],
   "source": [
    "print(data[\"gt\"][0])"
   ]
  },
  {
   "cell_type": "code",
   "execution_count": 10,
   "metadata": {},
   "outputs": [],
   "source": [
    "frame.tofile(\"data/bin/{}.dat\".format(file_id))"
   ]
  },
  {
   "cell_type": "code",
   "execution_count": 6,
   "metadata": {},
   "outputs": [
    {
     "ename": "TypeError",
     "evalue": "write() argument must be str, not bytes",
     "output_type": "error",
     "traceback": [
      "\u001b[0;31m---------------------------------------------------------------------------\u001b[0m",
      "\u001b[0;31mTypeError\u001b[0m                                 Traceback (most recent call last)",
      "Cell \u001b[0;32mIn[6], line 2\u001b[0m\n\u001b[1;32m      1\u001b[0m \u001b[39mwith\u001b[39;00m \u001b[39mopen\u001b[39m(\u001b[39m\"\u001b[39m\u001b[39mdata/bin/\u001b[39m\u001b[39m{}\u001b[39;00m\u001b[39m.dat\u001b[39m\u001b[39m\"\u001b[39m\u001b[39m.\u001b[39mformat(file_id), \u001b[39m'\u001b[39m\u001b[39mw\u001b[39m\u001b[39m'\u001b[39m) \u001b[39mas\u001b[39;00m f:\n\u001b[0;32m----> 2\u001b[0m     f\u001b[39m.\u001b[39;49mwrite(frame\u001b[39m.\u001b[39;49mtobytes())\n",
      "\u001b[0;31mTypeError\u001b[0m: write() argument must be str, not bytes"
     ]
    }
   ],
   "source": [
    "with open(\"data/bin/{}.dat\".format(file_id), 'w') as f:\n",
    "    f.write(frame.tobytes())"
   ]
  },
  {
   "cell_type": "code",
   "execution_count": 36,
   "metadata": {},
   "outputs": [
    {
     "data": {
      "text/plain": [
       "3.8747717328236244"
      ]
     },
     "execution_count": 36,
     "metadata": {},
     "output_type": "execute_result"
    }
   ],
   "source": [
    "data[\"pos1\"][1].max()"
   ]
  },
  {
   "cell_type": "code",
   "execution_count": 30,
   "metadata": {},
   "outputs": [
    {
     "data": {
      "text/plain": [
       "(torch.Size([1, 2048, 3]),\n",
       " torch.Size([1, 2048, 3]),\n",
       " torch.Size([1, 2048, 1]),\n",
       " torch.Size([1, 2048, 3]))"
      ]
     },
     "execution_count": 30,
     "metadata": {},
     "output_type": "execute_result"
    }
   ],
   "source": [
    "from flot.datasets.kitti_flownet3d import Kitti\n",
    "path2data = \"data/flownet3d/kitti_rm_ground/\"\n",
    "\n",
    "dataset = Kitti(root_dir=path2data, nb_points=2048)\n",
    "\n",
    "seq0, gt0 = dataset.to_torch(*dataset.subsample_points(*dataset.load_sequence(110)))\n",
    "seq0[0].shape, seq0[1].shape, gt0[0].shape, gt0[1].shape\n"
   ]
  },
  {
   "cell_type": "code",
   "execution_count": 31,
   "metadata": {},
   "outputs": [
    {
     "data": {
      "text/plain": [
       "array([[0, 1],\n",
       "       [2, 3]])"
      ]
     },
     "execution_count": 31,
     "metadata": {},
     "output_type": "execute_result"
    }
   ],
   "source": [
    "a = np.asarray((0,1,2,3))\n",
    "a.reshape(2, -1)"
   ]
  }
 ],
 "metadata": {
  "kernelspec": {
   "display_name": "FLOT",
   "language": "python",
   "name": "python3"
  },
  "language_info": {
   "codemirror_mode": {
    "name": "ipython",
    "version": 3
   },
   "file_extension": ".py",
   "mimetype": "text/x-python",
   "name": "python",
   "nbconvert_exporter": "python",
   "pygments_lexer": "ipython3",
   "version": "3.10.8"
  },
  "orig_nbformat": 4,
  "vscode": {
   "interpreter": {
    "hash": "98c7ecb06c56f0c6f87723db7d4629cc864b0c5a56a2566c3ac9d0b9fd67e80c"
   }
  }
 },
 "nbformat": 4,
 "nbformat_minor": 2
}
